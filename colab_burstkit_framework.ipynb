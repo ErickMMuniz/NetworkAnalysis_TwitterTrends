{
  "nbformat": 4,
  "nbformat_minor": 0,
  "metadata": {
    "colab": {
      "name": "colab_burstkit_framework.ipynb",
      "provenance": [],
      "include_colab_link": true
    },
    "kernelspec": {
      "name": "python3",
      "display_name": "Python 3"
    },
    "language_info": {
      "name": "python"
    }
  },
  "cells": [
    {
      "cell_type": "markdown",
      "metadata": {
        "id": "view-in-github",
        "colab_type": "text"
      },
      "source": [
        "<a href=\"https://colab.research.google.com/github/ErickMMuniz/NetworkAnalysis_TwitterTrends/blob/main/colab_burstkit_framework.ipynb\" target=\"_parent\"><img src=\"https://colab.research.google.com/assets/colab-badge.svg\" alt=\"Open In Colab\"/></a>"
      ]
    },
    {
      "cell_type": "markdown",
      "source": [
        "# Download all datasets and codes"
      ],
      "metadata": {
        "id": "4k8Zb3UZfSjI"
      }
    },
    {
      "cell_type": "code",
      "source": [
        "#@title **[Drive]**: Dado que estamos usando un copia de GitHub. Esto debe ser necesario para el desarrollo. No es util si no tienes las direcciones correctas que aputen a tu drive. \n",
        "from google.colab import drive\n",
        "drive.mount('/content/drive')"
      ],
      "metadata": {
        "id": "hqaH6ps61OeH",
        "outputId": "5cbbad1f-9def-471e-a8c5-39d0085d03f7",
        "colab": {
          "base_uri": "https://localhost:8080/"
        }
      },
      "execution_count": 1,
      "outputs": [
        {
          "output_type": "stream",
          "name": "stdout",
          "text": [
            "Mounted at /content/drive\n"
          ]
        }
      ]
    },
    {
      "cell_type": "code",
      "source": [
        "#@title **[WARNING]** : Solo usar esta celda en caso de reiniciar todo.  \n",
        "\n",
        "#Uncomment this lines to be safe\n",
        "# !rm -rf /content/data\n",
        "!rm -rf /content/burstkit\n",
        "!rm -rf /content/NetworkAnalysis_TwitterTrends/\n",
        "!rm -rf /content/README.txt\n",
        "!rm -rf /content/bin_colab.sh\n",
        "!rm -rf /content/follower_gcc.anony.dat\n",
        "!rm -rf /content/mention_gcc.anony.dat\n",
        "!rm -rf /content/retweet_gcc.anony.dat\n",
        "!rm -rf /content/timeline_tag.anony.dat\n",
        "!rm -rf /content/timeline_tag_men.anony.dat\n",
        "!rm -rf /content/timeline_tag_rt.anony.dat\n",
        "!rm -rf /content/virality2013.tar.gz"
      ],
      "metadata": {
        "id": "Wh-qJSO3yF0x"
      },
      "execution_count": 9,
      "outputs": []
    },
    {
      "cell_type": "code",
      "execution_count": 2,
      "metadata": {
        "colab": {
          "base_uri": "https://localhost:8080/"
        },
        "id": "k0dm2tKEb4me",
        "outputId": "01e5ce73-ed00-4d2a-a441-60463e69c576"
      },
      "outputs": [
        {
          "output_type": "stream",
          "name": "stdout",
          "text": [
            "--2022-06-14 06:43:49--  https://zenodo.org/record/4686013/files/virality2013.tar.gz\n",
            "Resolving zenodo.org (zenodo.org)... 137.138.76.77\n",
            "Connecting to zenodo.org (zenodo.org)|137.138.76.77|:443... connected.\n",
            "HTTP request sent, awaiting response... 200 OK\n",
            "Length: 526346240 (502M) [application/octet-stream]\n",
            "Saving to: ‘virality2013.tar.gz’\n",
            "\n",
            "virality2013.tar.gz 100%[===================>] 501.96M  6.65MB/s    in 46s     \n",
            "\n",
            "2022-06-14 06:44:37 (10.8 MB/s) - ‘virality2013.tar.gz’ saved [526346240/526346240]\n",
            "\n"
          ]
        }
      ],
      "source": [
        "#@title Dataset\n",
        "\n",
        "!wget https://zenodo.org/record/4686013/files/virality2013.tar.gz\n",
        "!mkdir data\n",
        "!mkdir data/virality2013.tar/\n",
        "!tar -xf virality2013.tar.gz -C data/virality2013.tar/"
      ]
    },
    {
      "cell_type": "code",
      "source": [
        "#@title clone repository\n",
        "!git clone https://github.com/ErickMMuniz/NetworkAnalysis_TwitterTrends.git\n",
        "!mv /content/NetworkAnalysis_TwitterTrends/burstkit /content/"
      ],
      "metadata": {
        "colab": {
          "base_uri": "https://localhost:8080/"
        },
        "id": "blmOXAOvEvyk",
        "outputId": "60acc7dc-2fd5-4911-aee5-3cdb4a2b8de1"
      },
      "execution_count": 10,
      "outputs": [
        {
          "output_type": "stream",
          "name": "stdout",
          "text": [
            "Cloning into 'NetworkAnalysis_TwitterTrends'...\n",
            "remote: Enumerating objects: 369, done.\u001b[K\n",
            "remote: Counting objects:   0% (1/122)\u001b[K\rremote: Counting objects:   1% (2/122)\u001b[K\rremote: Counting objects:   2% (3/122)\u001b[K\rremote: Counting objects:   3% (4/122)\u001b[K\rremote: Counting objects:   4% (5/122)\u001b[K\rremote: Counting objects:   5% (7/122)\u001b[K\rremote: Counting objects:   6% (8/122)\u001b[K\rremote: Counting objects:   7% (9/122)\u001b[K\rremote: Counting objects:   8% (10/122)\u001b[K\rremote: Counting objects:   9% (11/122)\u001b[K\rremote: Counting objects:  10% (13/122)\u001b[K\rremote: Counting objects:  11% (14/122)\u001b[K\rremote: Counting objects:  12% (15/122)\u001b[K\rremote: Counting objects:  13% (16/122)\u001b[K\rremote: Counting objects:  14% (18/122)\u001b[K\rremote: Counting objects:  15% (19/122)\u001b[K\rremote: Counting objects:  16% (20/122)\u001b[K\rremote: Counting objects:  17% (21/122)\u001b[K\rremote: Counting objects:  18% (22/122)\u001b[K\rremote: Counting objects:  19% (24/122)\u001b[K\rremote: Counting objects:  20% (25/122)\u001b[K\rremote: Counting objects:  21% (26/122)\u001b[K\rremote: Counting objects:  22% (27/122)\u001b[K\rremote: Counting objects:  23% (29/122)\u001b[K\rremote: Counting objects:  24% (30/122)\u001b[K\rremote: Counting objects:  25% (31/122)\u001b[K\rremote: Counting objects:  26% (32/122)\u001b[K\rremote: Counting objects:  27% (33/122)\u001b[K\rremote: Counting objects:  28% (35/122)\u001b[K\rremote: Counting objects:  29% (36/122)\u001b[K\rremote: Counting objects:  30% (37/122)\u001b[K\rremote: Counting objects:  31% (38/122)\u001b[K\rremote: Counting objects:  32% (40/122)\u001b[K\rremote: Counting objects:  33% (41/122)\u001b[K\rremote: Counting objects:  34% (42/122)\u001b[K\rremote: Counting objects:  35% (43/122)\u001b[K\rremote: Counting objects:  36% (44/122)\u001b[K\rremote: Counting objects:  37% (46/122)\u001b[K\rremote: Counting objects:  38% (47/122)\u001b[K\rremote: Counting objects:  39% (48/122)\u001b[K\rremote: Counting objects:  40% (49/122)\u001b[K\rremote: Counting objects:  41% (51/122)\u001b[K\rremote: Counting objects:  42% (52/122)\u001b[K\rremote: Counting objects:  43% (53/122)\u001b[K\rremote: Counting objects:  44% (54/122)\u001b[K\rremote: Counting objects:  45% (55/122)\u001b[K\rremote: Counting objects:  46% (57/122)\u001b[K\rremote: Counting objects:  47% (58/122)\u001b[K\rremote: Counting objects:  48% (59/122)\u001b[K\rremote: Counting objects:  49% (60/122)\u001b[K\rremote: Counting objects:  50% (61/122)\u001b[K\rremote: Counting objects:  51% (63/122)\u001b[K\rremote: Counting objects:  52% (64/122)\u001b[K\rremote: Counting objects:  53% (65/122)\u001b[K\rremote: Counting objects:  54% (66/122)\u001b[K\rremote: Counting objects:  55% (68/122)\u001b[K\rremote: Counting objects:  56% (69/122)\u001b[K\rremote: Counting objects:  57% (70/122)\u001b[K\rremote: Counting objects:  58% (71/122)\u001b[K\rremote: Counting objects:  59% (72/122)\u001b[K\rremote: Counting objects:  60% (74/122)\u001b[K\rremote: Counting objects:  61% (75/122)\u001b[K\rremote: Counting objects:  62% (76/122)\u001b[K\rremote: Counting objects:  63% (77/122)\u001b[K\rremote: Counting objects:  64% (79/122)\u001b[K\rremote: Counting objects:  65% (80/122)\u001b[K\rremote: Counting objects:  66% (81/122)\u001b[K\rremote: Counting objects:  67% (82/122)\u001b[K\rremote: Counting objects:  68% (83/122)\u001b[K\rremote: Counting objects:  69% (85/122)\u001b[K\rremote: Counting objects:  70% (86/122)\u001b[K\rremote: Counting objects:  71% (87/122)\u001b[K\rremote: Counting objects:  72% (88/122)\u001b[K\rremote: Counting objects:  73% (90/122)\u001b[K\rremote: Counting objects:  74% (91/122)\u001b[K\rremote: Counting objects:  75% (92/122)\u001b[K\rremote: Counting objects:  76% (93/122)\u001b[K\rremote: Counting objects:  77% (94/122)\u001b[K\rremote: Counting objects:  78% (96/122)\u001b[K\rremote: Counting objects:  79% (97/122)\u001b[K\rremote: Counting objects:  80% (98/122)\u001b[K\rremote: Counting objects:  81% (99/122)\u001b[K\rremote: Counting objects:  82% (101/122)\rremote: Counting objects:  83% (102/122)\u001b[K\rremote: Counting objects:  84% (103/122)\u001b[K\rremote: Counting objects:  85% (104/122)\u001b[K\rremote: Counting objects:  86% (105/122)\u001b[K\rremote: Counting objects:  87% (107/122)\u001b[K\rremote: Counting objects:  88% (108/122)\u001b[K\rremote: Counting objects:  89% (109/122)\u001b[K\rremote: Counting objects:  90% (110/122)\u001b[K\rremote: Counting objects:  91% (112/122)\u001b[K\rremote: Counting objects:  92% (113/122)\u001b[K\rremote: Counting objects:  93% (114/122)\u001b[K\rremote: Counting objects:  94% (115/122)\u001b[K\rremote: Counting objects:  95% (116/122)\u001b[K\rremote: Counting objects:  96% (118/122)\u001b[K\rremote: Counting objects:  97% (119/122)\u001b[K\rremote: Counting objects:  98% (120/122)\u001b[K\rremote: Counting objects:  99% (121/122)\u001b[K\rremote: Counting objects: 100% (122/122)\u001b[K\rremote: Counting objects: 100% (122/122), done.\u001b[K\n",
            "remote: Compressing objects: 100% (82/82), done.\u001b[K\n",
            "remote: Total 369 (delta 67), reused 79 (delta 38), pack-reused 247\u001b[K\n",
            "Receiving objects: 100% (369/369), 32.77 MiB | 33.59 MiB/s, done.\n",
            "Resolving deltas: 100% (154/154), done.\n"
          ]
        }
      ]
    },
    {
      "cell_type": "markdown",
      "source": [
        "# Project\n"
      ],
      "metadata": {
        "id": "SshZ8QZhFfpQ"
      }
    },
    {
      "cell_type": "code",
      "source": [
        "#@title Dependencias\n",
        "import numpy as np\n",
        "import networkx as nx\n",
        "import matplotlib.pyplot as plt\n"
      ],
      "metadata": {
        "id": "rmjXGKHMKWOf"
      },
      "execution_count": null,
      "outputs": []
    },
    {
      "cell_type": "code",
      "source": [
        "#@title Matplotlib settings\n",
        "import matplotlib.pyplot as plt\n",
        "\n",
        "plt.rcParams['xtick.labelsize'] = 12\n",
        "plt.rcParams['ytick.labelsize'] = 12\n",
        "plt.rcParams['font.size'] = 15\n",
        "plt.rcParams['font.family'] = 'serif'\n",
        "plt.rcParams['text.usetex'] = False\n",
        "\n",
        "#mpl.rcParams['axes.prop_cycle'] = cycler(color=['r', 'g', 'b', 'y'])\n",
        "#print(plt.style.available)\n",
        "plt.style.use('bmh')\n",
        "#plt.style.use('classic')"
      ],
      "metadata": {
        "id": "IqkLuPOmDo3O"
      },
      "execution_count": 4,
      "outputs": []
    },
    {
      "cell_type": "code",
      "source": [
        "#@title ***[WARNING]***: Siempre se debe correr esta celda para tener los mismo resultados.  \n",
        "import numpy as np\n",
        "from burstkit.util import SEED\n",
        "np.random.seed(SEED)"
      ],
      "metadata": {
        "id": "x8uZp1l9J_7k"
      },
      "execution_count": null,
      "outputs": []
    },
    {
      "cell_type": "markdown",
      "source": [
        "# Compute principal graphs"
      ],
      "metadata": {
        "id": "tSoc7D64zeCH"
      }
    },
    {
      "cell_type": "code",
      "source": [
        "#@title Some networks\n",
        "import burstkit\n",
        "from burstkit.calculate.graphs_attributes import calculate_some_metrics_and_return_graph_follower\n",
        "\n",
        "#G is the network of Mutual Follow.\n",
        "G = calculate_some_metrics_and_return_graph_follower()"
      ],
      "metadata": {
        "id": "F0ARkn9Ozb11"
      },
      "execution_count": 5,
      "outputs": []
    },
    {
      "cell_type": "code",
      "source": [
        "#@title Some utils dataframes with timeline information. \n",
        "import burstkit\n",
        "from burstkit.util.read_files import get_relation_trend_timeline_tweets\n",
        "\n",
        "TREND_TIMELINE_TWEETS : \"dict[str, pd.DataFrame]\" = get_relation_trend_timeline_tweets()"
      ],
      "metadata": {
        "id": "m4Hi5d-uCbtc"
      },
      "execution_count": null,
      "outputs": []
    },
    {
      "cell_type": "code",
      "source": [
        "#@title Calculate some important values from Networkit\n",
        "from pandas import DataFrame\n",
        "PATH_INDEX_TRENDS = \"/content/drive/MyDrive/tesis/data/mutual_follow_network\"\n",
        "\n",
        "MIN_NUMBER_TWEETS = 4000\n",
        "\n",
        "#TRENDS_WITH_AT_LEAST_NUMBER_TWEETS = dict(filter(lambda trend, df : df.shape[0] >= MIN_NUMBER_TWEETS ,TREND_TIMELINE_TWEETS)\n",
        "\n",
        "index_df : \"DataFrame\" = DataFrame( data = {\"trend\" : TREND_TIMELINE_TWEETS.keys() })\n",
        "\n",
        "#En este caso sí guardamos el índice.\n",
        "index_df.to_csv(\"{}/index_trends.csv\", PATH_INDEX_TRENDS, encoding - \"utf8\")"
      ],
      "metadata": {
        "id": "fvPSXLeFEqwo"
      },
      "execution_count": 34,
      "outputs": []
    },
    {
      "cell_type": "code",
      "source": [
        "from pandas import DataFrame\n",
        "\n",
        "def get_index_node_nk_to_nx(G : \"nx.Graph\") -> \"DataFrame\":\n",
        "  idmap = dict((id, u) for (id, u) in zip(G.nodes(), range(G.number_of_nodes())))\n",
        "  uid = idmap.keys()\n",
        "  uid_part = idmap.values()\n",
        "  return DataFrame( data = {\"uid_part\" : uid_part,\n",
        "                            \"uid\": uid})\n",
        "  \n"
      ],
      "metadata": {
        "id": "ckdkfICvHhNQ"
      },
      "execution_count": null,
      "outputs": []
    },
    {
      "cell_type": "code",
      "source": [
        "# import networkx as nx\n",
        "\n",
        "# nx.write_gml(G, path = \"/content/drive/MyDrive/tesis/data/mutual_followers_network_with_attributes.gml\")"
      ],
      "metadata": {
        "id": "bJELW0kf2Qc3"
      },
      "execution_count": null,
      "outputs": []
    },
    {
      "cell_type": "code",
      "source": [
        "import pandas as pd\n",
        "degree_attribute: \"dict[str, int]\" = dict(G.degree())\n",
        "dict_core_number = degree_attribute\n",
        "nodes = dict_core_number.keys()\n",
        "value = dict_core_number.values()\n",
        "df_core_number = pd.DataFrame(data={\"uid\":nodes,\n",
        "                   \"value\":value})\n",
        "\n",
        "#df_core_number.to_csv(\"/content/drive/MyDrive/tesis/data/mutual_follow_network/attributes/degree.csv\",index=False)"
      ],
      "metadata": {
        "id": "GqpOvdsJEkq-"
      },
      "execution_count": null,
      "outputs": []
    },
    {
      "cell_type": "code",
      "source": [
        "grerdy_communities = nx.algorithms.community.greedy_modularity_communities(G)"
      ],
      "metadata": {
        "id": "DZJQcUUsMgkg"
      },
      "execution_count": null,
      "outputs": []
    },
    {
      "cell_type": "code",
      "source": [
        "nodes = dict_core_number.keys()\n",
        "value = dict_core_number.values()\n",
        "df_core_number = pd.DataFrame(data={\"uid\":nodes,\n",
        "                   \"value\":value})\n",
        "\n",
        "df_core_number.to_csv(\"/content/drive/MyDrive/tesis/data/mutual_follow_network/attributes/core_number.csv\",index=False)"
      ],
      "metadata": {
        "id": "Bbu7hSSQHFeL"
      },
      "execution_count": null,
      "outputs": []
    },
    {
      "cell_type": "code",
      "source": [
        "from collections import Counter\n",
        "degree_attribute: \"dict[str, int]\" = dict(G.degree())\n",
        "degree_sequence = degree_attribute.values()\n",
        "degree_counter = dict(Counter(degree_sequence))\n",
        "\n",
        "X = degree_counter.keys()\n",
        "Y = degree_counter.values()\n",
        "\n",
        "import matplotlib.pyplot as plt\n",
        "\n",
        "fig, ax = plt.subplots()\n",
        "ax.scatter(X,Y)\n",
        "ax.set_xscale(\"log\")\n",
        "ax.set_yscale(\"log\")\n",
        "fig.show()"
      ],
      "metadata": {
        "id": "cvYkhDiW7D35"
      },
      "execution_count": null,
      "outputs": []
    },
    {
      "cell_type": "code",
      "source": [
        "#@title Graph k-core number vs number of Tweets\n",
        "\n",
        "import burstkit.util.read_files as rf\n",
        "TREND_TIMELINE_TWEETS : \"dict[str, pd.DataFrame]\" = rf.get_relation_trend_timeline_tweets()\n"
      ],
      "metadata": {
        "id": "WhtbyNxVCGu3"
      },
      "execution_count": null,
      "outputs": []
    },
    {
      "cell_type": "code",
      "source": [
        "at_least_trends = filter(lambda trend_name: TREND_TIMELINE_TWEETS[trend_name].shape[0] > 4000, TREND_TIMELINE_TWEETS)\n",
        "trend : \"str\" = list(at_.keys())[0]\n",
        "timetime : \"pd.DataFrame\" = TREND_TIMELINE_TWEETS[trend]"
      ],
      "metadata": {
        "id": "J3d4WPA2Ce-4"
      },
      "execution_count": null,
      "outputs": []
    },
    {
      "cell_type": "code",
      "source": [
        "# F = nx.read_gml(path = \"/content/drive/MyDrive/tesis/data/mutual_followers_network_with_attributes.gml\")\n",
        "# !cat /content/drive/MyDrive/tesis/data/mutual_followers_network_with_attributes.gml"
      ],
      "metadata": {
        "id": "r8btobTEFfEk"
      },
      "execution_count": null,
      "outputs": []
    },
    {
      "cell_type": "markdown",
      "source": [
        "# Danger zone"
      ],
      "metadata": {
        "id": "TTI1IJXDPmHW"
      }
    },
    {
      "cell_type": "code",
      "source": [
        "#@title NetworkIt install\n",
        "!sudo apt install build-essential\n",
        "!sudo apt install python3-dev python3-pip\n",
        "!pip3 install cmake cython\n",
        "!pip3 install networkit"
      ],
      "metadata": {
        "id": "rtUl3iCUPk9d",
        "outputId": "3073f09b-c4f4-4b50-cbaf-b193068afd89",
        "colab": {
          "base_uri": "https://localhost:8080/"
        }
      },
      "execution_count": null,
      "outputs": [
        {
          "output_type": "stream",
          "name": "stdout",
          "text": [
            "Reading package lists... Done\n",
            "Building dependency tree       \n",
            "Reading state information... Done\n",
            "build-essential is already the newest version (12.4ubuntu1).\n",
            "The following package was automatically installed and is no longer required:\n",
            "  libnvidia-common-460\n",
            "Use 'sudo apt autoremove' to remove it.\n",
            "0 upgraded, 0 newly installed, 0 to remove and 45 not upgraded.\n",
            "Reading package lists... Done\n",
            "Building dependency tree       \n",
            "Reading state information... Done\n",
            "python3-dev is already the newest version (3.6.7-1~18.04).\n",
            "python3-dev set to manually installed.\n",
            "The following package was automatically installed and is no longer required:\n",
            "  libnvidia-common-460\n",
            "Use 'sudo apt autoremove' to remove it.\n",
            "The following additional packages will be installed:\n",
            "  python-pip-whl python3-asn1crypto python3-cffi-backend python3-crypto\n",
            "  python3-cryptography python3-idna python3-keyring python3-keyrings.alt\n",
            "  python3-pkg-resources python3-secretstorage python3-setuptools python3-six\n",
            "  python3-wheel python3-xdg\n",
            "Suggested packages:\n",
            "  python-crypto-doc python-cryptography-doc python3-cryptography-vectors\n",
            "  gnome-keyring libkf5wallet-bin gir1.2-gnomekeyring-1.0\n",
            "  python-secretstorage-doc python-setuptools-doc\n",
            "The following NEW packages will be installed:\n",
            "  python-pip-whl python3-asn1crypto python3-cffi-backend python3-crypto\n",
            "  python3-cryptography python3-idna python3-keyring python3-keyrings.alt\n",
            "  python3-pip python3-pkg-resources python3-secretstorage python3-setuptools\n",
            "  python3-six python3-wheel python3-xdg\n",
            "0 upgraded, 15 newly installed, 0 to remove and 45 not upgraded.\n",
            "Need to get 2,882 kB of archives.\n",
            "After this operation, 8,886 kB of additional disk space will be used.\n",
            "Get:1 http://archive.ubuntu.com/ubuntu bionic-updates/universe amd64 python-pip-whl all 9.0.1-2.3~ubuntu1.18.04.5 [1,653 kB]\n",
            "Get:2 http://archive.ubuntu.com/ubuntu bionic/main amd64 python3-asn1crypto all 0.24.0-1 [72.8 kB]\n",
            "Get:3 http://archive.ubuntu.com/ubuntu bionic/main amd64 python3-cffi-backend amd64 1.11.5-1 [64.6 kB]\n",
            "Get:4 http://archive.ubuntu.com/ubuntu bionic/main amd64 python3-crypto amd64 2.6.1-8ubuntu2 [244 kB]\n",
            "Get:5 http://archive.ubuntu.com/ubuntu bionic/main amd64 python3-idna all 2.6-1 [32.5 kB]\n",
            "Get:6 http://archive.ubuntu.com/ubuntu bionic/main amd64 python3-six all 1.11.0-2 [11.4 kB]\n",
            "Get:7 http://archive.ubuntu.com/ubuntu bionic-updates/main amd64 python3-cryptography amd64 2.1.4-1ubuntu1.4 [220 kB]\n",
            "Get:8 http://archive.ubuntu.com/ubuntu bionic/main amd64 python3-secretstorage all 2.3.1-2 [12.1 kB]\n",
            "Get:9 http://archive.ubuntu.com/ubuntu bionic/main amd64 python3-keyring all 10.6.0-1 [26.7 kB]\n",
            "Get:10 http://archive.ubuntu.com/ubuntu bionic/main amd64 python3-keyrings.alt all 3.0-1 [16.6 kB]\n",
            "Get:11 http://archive.ubuntu.com/ubuntu bionic-updates/universe amd64 python3-pip all 9.0.1-2.3~ubuntu1.18.04.5 [114 kB]\n",
            "Get:12 http://archive.ubuntu.com/ubuntu bionic/main amd64 python3-pkg-resources all 39.0.1-2 [98.8 kB]\n",
            "Get:13 http://archive.ubuntu.com/ubuntu bionic/main amd64 python3-setuptools all 39.0.1-2 [248 kB]\n",
            "Get:14 http://archive.ubuntu.com/ubuntu bionic/universe amd64 python3-wheel all 0.30.0-0.2 [36.5 kB]\n",
            "Get:15 http://archive.ubuntu.com/ubuntu bionic-updates/main amd64 python3-xdg all 0.25-4ubuntu1.1 [31.3 kB]\n",
            "Fetched 2,882 kB in 0s (6,854 kB/s)\n",
            "debconf: unable to initialize frontend: Dialog\n",
            "debconf: (No usable dialog-like program is installed, so the dialog based frontend cannot be used. at /usr/share/perl5/Debconf/FrontEnd/Dialog.pm line 76, <> line 15.)\n",
            "debconf: falling back to frontend: Readline\n",
            "debconf: unable to initialize frontend: Readline\n",
            "debconf: (This frontend requires a controlling tty.)\n",
            "debconf: falling back to frontend: Teletype\n",
            "dpkg-preconfigure: unable to re-open stdin: \n",
            "Selecting previously unselected package python-pip-whl.\n",
            "(Reading database ... 155632 files and directories currently installed.)\n",
            "Preparing to unpack .../00-python-pip-whl_9.0.1-2.3~ubuntu1.18.04.5_all.deb ...\n",
            "Unpacking python-pip-whl (9.0.1-2.3~ubuntu1.18.04.5) ...\n",
            "Selecting previously unselected package python3-asn1crypto.\n",
            "Preparing to unpack .../01-python3-asn1crypto_0.24.0-1_all.deb ...\n",
            "Unpacking python3-asn1crypto (0.24.0-1) ...\n",
            "Selecting previously unselected package python3-cffi-backend.\n",
            "Preparing to unpack .../02-python3-cffi-backend_1.11.5-1_amd64.deb ...\n",
            "Unpacking python3-cffi-backend (1.11.5-1) ...\n",
            "Selecting previously unselected package python3-crypto.\n",
            "Preparing to unpack .../03-python3-crypto_2.6.1-8ubuntu2_amd64.deb ...\n",
            "Unpacking python3-crypto (2.6.1-8ubuntu2) ...\n",
            "Selecting previously unselected package python3-idna.\n",
            "Preparing to unpack .../04-python3-idna_2.6-1_all.deb ...\n",
            "Unpacking python3-idna (2.6-1) ...\n",
            "Selecting previously unselected package python3-six.\n",
            "Preparing to unpack .../05-python3-six_1.11.0-2_all.deb ...\n",
            "Unpacking python3-six (1.11.0-2) ...\n",
            "Selecting previously unselected package python3-cryptography.\n",
            "Preparing to unpack .../06-python3-cryptography_2.1.4-1ubuntu1.4_amd64.deb ...\n",
            "Unpacking python3-cryptography (2.1.4-1ubuntu1.4) ...\n",
            "Selecting previously unselected package python3-secretstorage.\n",
            "Preparing to unpack .../07-python3-secretstorage_2.3.1-2_all.deb ...\n",
            "Unpacking python3-secretstorage (2.3.1-2) ...\n",
            "Selecting previously unselected package python3-keyring.\n",
            "Preparing to unpack .../08-python3-keyring_10.6.0-1_all.deb ...\n",
            "Unpacking python3-keyring (10.6.0-1) ...\n",
            "Selecting previously unselected package python3-keyrings.alt.\n",
            "Preparing to unpack .../09-python3-keyrings.alt_3.0-1_all.deb ...\n",
            "Unpacking python3-keyrings.alt (3.0-1) ...\n",
            "Selecting previously unselected package python3-pip.\n",
            "Preparing to unpack .../10-python3-pip_9.0.1-2.3~ubuntu1.18.04.5_all.deb ...\n",
            "Unpacking python3-pip (9.0.1-2.3~ubuntu1.18.04.5) ...\n",
            "Selecting previously unselected package python3-pkg-resources.\n",
            "Preparing to unpack .../11-python3-pkg-resources_39.0.1-2_all.deb ...\n",
            "Unpacking python3-pkg-resources (39.0.1-2) ...\n",
            "Selecting previously unselected package python3-setuptools.\n",
            "Preparing to unpack .../12-python3-setuptools_39.0.1-2_all.deb ...\n",
            "Unpacking python3-setuptools (39.0.1-2) ...\n",
            "Selecting previously unselected package python3-wheel.\n",
            "Preparing to unpack .../13-python3-wheel_0.30.0-0.2_all.deb ...\n",
            "Unpacking python3-wheel (0.30.0-0.2) ...\n",
            "Selecting previously unselected package python3-xdg.\n",
            "Preparing to unpack .../14-python3-xdg_0.25-4ubuntu1.1_all.deb ...\n",
            "Unpacking python3-xdg (0.25-4ubuntu1.1) ...\n",
            "Setting up python-pip-whl (9.0.1-2.3~ubuntu1.18.04.5) ...\n",
            "Setting up python3-cffi-backend (1.11.5-1) ...\n",
            "Setting up python3-crypto (2.6.1-8ubuntu2) ...\n",
            "Setting up python3-idna (2.6-1) ...\n",
            "Setting up python3-xdg (0.25-4ubuntu1.1) ...\n",
            "Setting up python3-six (1.11.0-2) ...\n",
            "Setting up python3-wheel (0.30.0-0.2) ...\n",
            "Setting up python3-pkg-resources (39.0.1-2) ...\n",
            "Setting up python3-asn1crypto (0.24.0-1) ...\n",
            "Setting up python3-pip (9.0.1-2.3~ubuntu1.18.04.5) ...\n",
            "Setting up python3-setuptools (39.0.1-2) ...\n",
            "Setting up python3-cryptography (2.1.4-1ubuntu1.4) ...\n",
            "Setting up python3-keyrings.alt (3.0-1) ...\n",
            "Setting up python3-secretstorage (2.3.1-2) ...\n",
            "Setting up python3-keyring (10.6.0-1) ...\n",
            "Processing triggers for man-db (2.8.3-2ubuntu0.1) ...\n",
            "Looking in indexes: https://pypi.org/simple, https://us-python.pkg.dev/colab-wheels/public/simple/\n",
            "Requirement already satisfied: cmake in /usr/local/lib/python3.7/dist-packages (3.22.4)\n",
            "Requirement already satisfied: cython in /usr/local/lib/python3.7/dist-packages (0.29.30)\n",
            "Looking in indexes: https://pypi.org/simple, https://us-python.pkg.dev/colab-wheels/public/simple/\n",
            "Collecting networkit\n",
            "  Downloading networkit-10.0.tar.gz (5.7 MB)\n",
            "\u001b[K     |████████████████████████████████| 5.7 MB 4.3 MB/s \n",
            "\u001b[?25hRequirement already satisfied: scipy in /usr/local/lib/python3.7/dist-packages (from networkit) (1.4.1)\n",
            "Requirement already satisfied: numpy in /usr/local/lib/python3.7/dist-packages (from networkit) (1.21.6)\n",
            "Building wheels for collected packages: networkit\n",
            "  Building wheel for networkit (setup.py) ... \u001b[?25l\u001b[?25hdone\n",
            "  Created wheel for networkit: filename=networkit-10.0-cp37-cp37m-linux_x86_64.whl size=8166605 sha256=b8bfa4a7a44137820890eb7eea1684ee87b4276fda79c7fe3c329ceecc2c756f\n",
            "  Stored in directory: /root/.cache/pip/wheels/63/7a/29/82ad675434206a11470c7179c78d3f172ea2a6bc05cfb7391c\n",
            "Successfully built networkit\n",
            "Installing collected packages: networkit\n",
            "Successfully installed networkit-10.0\n"
          ]
        }
      ]
    },
    {
      "cell_type": "code",
      "source": [
        "from networkx import is_connected\n",
        "is_connected(G)"
      ],
      "metadata": {
        "id": "rklPTH77H-_U",
        "outputId": "5911aff3-021e-4adc-85cf-a7eb736ab122",
        "colab": {
          "base_uri": "https://localhost:8080/"
        }
      },
      "execution_count": null,
      "outputs": [
        {
          "output_type": "execute_result",
          "data": {
            "text/plain": [
              "True"
            ]
          },
          "metadata": {},
          "execution_count": 16
        }
      ]
    },
    {
      "cell_type": "code",
      "source": [
        "#Checknumber of total nodes \n",
        "import burstkit\n",
        "from burstkit.util.read_files import get_mutual_followers\n",
        "\n",
        "df_mutual_followers = get_mutual_followers()"
      ],
      "metadata": {
        "id": "tyh1jxlxJGmR"
      },
      "execution_count": null,
      "outputs": []
    },
    {
      "cell_type": "code",
      "source": [
        "#df_mutual_followers['source'].unique()\n",
        "#df_mutual_followers['target'].unique()\n",
        "\n",
        "from pandas import concat\n",
        "\n",
        "df_union = concat([df_mutual_followers['source'], df_mutual_followers['source'] ], axis=0)"
      ],
      "metadata": {
        "id": "mTk3bZ2oJXI6"
      },
      "execution_count": null,
      "outputs": []
    },
    {
      "cell_type": "code",
      "source": [
        "foo_unique = df_union.unique()"
      ],
      "metadata": {
        "id": "EJItXM-2J5gB"
      },
      "execution_count": null,
      "outputs": []
    },
    {
      "cell_type": "code",
      "source": [
        "foo_unique_int = list(map(lambda x: int(x), list(foo_unique)))\n",
        "foo_unique_int.sort(reverse=False)"
      ],
      "metadata": {
        "id": "hndjL5bCKMHm"
      },
      "execution_count": null,
      "outputs": []
    },
    {
      "cell_type": "code",
      "source": [
        "#from itertools import Counter\n",
        "#df_union.count()\n",
        "\n",
        "from pandas import DataFrame\n",
        "df_union_really_df = DataFrame( data = {\"uid\": df_union})"
      ],
      "metadata": {
        "id": "gr4VMbHIKy0T"
      },
      "execution_count": null,
      "outputs": []
    },
    {
      "cell_type": "code",
      "source": [
        "!pip3 install networkx\n",
        "!pip3 install numba"
      ],
      "metadata": {
        "id": "ZGw8cbHXISQR",
        "outputId": "3d397f79-b3ac-4a3f-eaef-d31968fe280c",
        "colab": {
          "base_uri": "https://localhost:8080/"
        }
      },
      "execution_count": null,
      "outputs": [
        {
          "output_type": "stream",
          "name": "stdout",
          "text": [
            "Looking in indexes: https://pypi.org/simple, https://us-python.pkg.dev/colab-wheels/public/simple/\n",
            "Requirement already satisfied: networkx in /usr/local/lib/python3.7/dist-packages (2.6.3)\n",
            "Looking in indexes: https://pypi.org/simple, https://us-python.pkg.dev/colab-wheels/public/simple/\n",
            "Requirement already satisfied: numba in /usr/local/lib/python3.7/dist-packages (0.51.2)\n",
            "Requirement already satisfied: setuptools in /usr/local/lib/python3.7/dist-packages (from numba) (57.4.0)\n",
            "Requirement already satisfied: numpy>=1.15 in /usr/local/lib/python3.7/dist-packages (from numba) (1.21.6)\n",
            "Requirement already satisfied: llvmlite<0.35,>=0.34.0.dev0 in /usr/local/lib/python3.7/dist-packages (from numba) (0.34.0)\n"
          ]
        }
      ]
    },
    {
      "cell_type": "code",
      "source": [
        "from networkit import *\n",
        "Git = nxadapter.nx2nk(G)\n",
        "#g = generators.HyperbolicGenerator(1e5).generate()\n",
        "overview(Git)"
      ],
      "metadata": {
        "id": "7mIoLKXNQEq2",
        "outputId": "c69232a9-0118-4cec-d0c6-a2c8a67ef003",
        "colab": {
          "base_uri": "https://localhost:8080/",
          "height": 446
        }
      },
      "execution_count": null,
      "outputs": [
        {
          "output_type": "display_data",
          "data": {
            "text/html": [
              "\n",
              "\t\t\t<script type=\"text/javascript\">\n",
              "\t\t\t<!--\n",
              "\t\t\t\t\n",
              "\t\t\t{\n",
              "\t\t\t\tvar element = document.getElementById('NetworKit_script');\n",
              "\t\t\t\tif (element) {\n",
              "\t\t\t\t\telement.parentNode.removeChild(element);\n",
              "\t\t\t\t}\n",
              "\t\t\t\telement = document.createElement('script');\n",
              "\t\t\t\telement.type = 'text/javascript';\n",
              "\t\t\t\telement.innerHTML = 'function NetworKit_pageEmbed(id) { var i, j; var elements; elements = document.getElementById(id).getElementsByClassName(\"Plot\"); for (i=0; i<elements.length; i++) { elements[i].id = id + \"_Plot_\" + i; var data = elements[i].getAttribute(\"data-image\").split(\"|\"); elements[i].removeAttribute(\"data-image\"); var content = \"<div class=\\\\\"Image\\\\\" id=\\\\\"\" + elements[i].id + \"_Image\\\\\" />\"; elements[i].innerHTML = content; elements[i].setAttribute(\"data-image-index\", 0); elements[i].setAttribute(\"data-image-length\", data.length); for (j=0; j<data.length; j++) { elements[i].setAttribute(\"data-image-\" + j, data[j]); } NetworKit_plotUpdate(elements[i]); elements[i].onclick = function (e) { NetworKit_overlayShow((e.target) ? e.target : e.srcElement); } } elements = document.getElementById(id).getElementsByClassName(\"HeatCell\"); for (i=0; i<elements.length; i++) { var data = parseFloat(elements[i].getAttribute(\"data-heat\")); var color = \"#00FF00\"; if (data <= 1 && data > 0) { color = \"hsla(0, 100%, 75%, \" + (data) + \")\"; } else if (data <= 0 && data >= -1) { color = \"hsla(240, 100%, 75%, \" + (-data) + \")\"; } elements[i].style.backgroundColor = color; } elements = document.getElementById(id).getElementsByClassName(\"Details\"); for (i=0; i<elements.length; i++) { elements[i].setAttribute(\"data-title\", \"-\"); NetworKit_toggleDetails(elements[i]); elements[i].onclick = function (e) { NetworKit_toggleDetails((e.target) ? e.target : e.srcElement); } } elements = document.getElementById(id).getElementsByClassName(\"MathValue\"); for (i=elements.length-1; i>=0; i--) { value = elements[i].innerHTML.trim(); if (value === \"nan\") { elements[i].parentNode.innerHTML = \"\" } } elements = document.getElementById(id).getElementsByClassName(\"SubCategory\"); for (i=elements.length-1; i>=0; i--) { value = elements[i].innerHTML.trim(); if (value === \"\") { elements[i].parentNode.removeChild(elements[i]) } } elements = document.getElementById(id).getElementsByClassName(\"Category\"); for (i=elements.length-1; i>=0; i--) { value = elements[i].innerHTML.trim(); if (value === \"\") { elements[i].parentNode.removeChild(elements[i]) } } var isFirefox = false; try { isFirefox = typeof InstallTrigger !== \"undefined\"; } catch (e) {} if (!isFirefox) { alert(\"Currently the function\\'s output is only fully supported by Firefox.\"); } } function NetworKit_plotUpdate(source) { var index = source.getAttribute(\"data-image-index\"); var data = source.getAttribute(\"data-image-\" + index); var image = document.getElementById(source.id + \"_Image\"); image.style.backgroundImage = \"url(\" + data + \")\"; } function NetworKit_showElement(id, show) { var element = document.getElementById(id); element.style.display = (show) ? \"block\" : \"none\"; } function NetworKit_overlayShow(source) { NetworKit_overlayUpdate(source); NetworKit_showElement(\"NetworKit_Overlay\", true); } function NetworKit_overlayUpdate(source) { document.getElementById(\"NetworKit_Overlay_Title\").innerHTML = source.title; var index = source.getAttribute(\"data-image-index\"); var data = source.getAttribute(\"data-image-\" + index); var image = document.getElementById(\"NetworKit_Overlay_Image\"); image.setAttribute(\"data-id\", source.id); image.style.backgroundImage = \"url(\" + data + \")\"; var link = document.getElementById(\"NetworKit_Overlay_Toolbar_Bottom_Save\"); link.href = data; link.download = source.title + \".svg\"; } function NetworKit_overlayImageShift(delta) { var image = document.getElementById(\"NetworKit_Overlay_Image\"); var source = document.getElementById(image.getAttribute(\"data-id\")); var index = parseInt(source.getAttribute(\"data-image-index\")); var length = parseInt(source.getAttribute(\"data-image-length\")); var index = (index+delta) % length; if (index < 0) { index = length + index; } source.setAttribute(\"data-image-index\", index); NetworKit_overlayUpdate(source); } function NetworKit_toggleDetails(source) { var childs = source.children; var show = false; if (source.getAttribute(\"data-title\") == \"-\") { source.setAttribute(\"data-title\", \"+\"); show = false; } else { source.setAttribute(\"data-title\", \"-\"); show = true; } for (i=0; i<childs.length; i++) { if (show) { childs[i].style.display = \"block\"; } else { childs[i].style.display = \"none\"; } } }';\n",
              "\t\t\t\telement.setAttribute('id', 'NetworKit_script');\n",
              "\t\t\t\tdocument.head.appendChild(element);\n",
              "\t\t\t}\n",
              "\t\t\n",
              "\t\t\t\t\n",
              "\t\t\t{\n",
              "\t\t\t\tvar element = document.getElementById('NetworKit_style');\n",
              "\t\t\t\tif (element) {\n",
              "\t\t\t\t\telement.parentNode.removeChild(element);\n",
              "\t\t\t\t}\n",
              "\t\t\t\telement = document.createElement('style');\n",
              "\t\t\t\telement.type = 'text/css';\n",
              "\t\t\t\telement.innerHTML = '.NetworKit_Page { font-family: Arial, Helvetica, sans-serif; font-size: 14px; } .NetworKit_Page .Value:before { font-family: Arial, Helvetica, sans-serif; font-size: 1.05em; content: attr(data-title) \":\"; margin-left: -2.5em; padding-right: 0.5em; } .NetworKit_Page .Details .Value:before { display: block; } .NetworKit_Page .Value { font-family: monospace; white-space: pre; padding-left: 2.5em; white-space: -moz-pre-wrap !important; white-space: -pre-wrap; white-space: -o-pre-wrap; white-space: pre-wrap; word-wrap: break-word; tab-size: 4; -moz-tab-size: 4; } .NetworKit_Page .Category { clear: both; padding-left: 1em; margin-bottom: 1.5em; } .NetworKit_Page .Category:before { content: attr(data-title); font-size: 1.75em; display: block; margin-left: -0.8em; margin-bottom: 0.5em; } .NetworKit_Page .SubCategory { margin-bottom: 1.5em; padding-left: 1em; } .NetworKit_Page .SubCategory:before { font-size: 1.6em; display: block; margin-left: -0.8em; margin-bottom: 0.5em; } .NetworKit_Page .SubCategory[data-title]:before { content: attr(data-title); } .NetworKit_Page .Block { display: block; } .NetworKit_Page .Block:after { content: \".\"; visibility: hidden; display: block; height: 0; clear: both; } .NetworKit_Page .Block .Thumbnail_Overview, .NetworKit_Page .Block .Thumbnail_ScatterPlot { width: 260px; float: left; } .NetworKit_Page .Block .Thumbnail_Overview img, .NetworKit_Page .Block .Thumbnail_ScatterPlot img { width: 260px; } .NetworKit_Page .Block .Thumbnail_Overview:before, .NetworKit_Page .Block .Thumbnail_ScatterPlot:before { display: block; text-align: center; font-weight: bold; } .NetworKit_Page .Block .Thumbnail_Overview:before { content: attr(data-title); } .NetworKit_Page .HeatCell { font-family: \"Courier New\", Courier, monospace; cursor: pointer; } .NetworKit_Page .HeatCell, .NetworKit_Page .HeatCellName { display: inline; padding: 0.1em; margin-right: 2px; background-color: #FFFFFF } .NetworKit_Page .HeatCellName { margin-left: 0.25em; } .NetworKit_Page .HeatCell:before { content: attr(data-heat); display: inline-block; color: #000000; width: 4em; text-align: center; } .NetworKit_Page .Measure { clear: both; } .NetworKit_Page .Measure .Details { cursor: pointer; } .NetworKit_Page .Measure .Details:before { content: \"[\" attr(data-title) \"]\"; display: block; } .NetworKit_Page .Measure .Details .Value { border-left: 1px dotted black; margin-left: 0.4em; padding-left: 3.5em; pointer-events: none; } .NetworKit_Page .Measure .Details .Spacer:before { content: \".\"; opacity: 0.0; pointer-events: none; } .NetworKit_Page .Measure .Plot { width: 440px; height: 440px; cursor: pointer; float: left; margin-left: -0.9em; margin-right: 20px; } .NetworKit_Page .Measure .Plot .Image { background-repeat: no-repeat; background-position: center center; background-size: contain; height: 100%; pointer-events: none; } .NetworKit_Page .Measure .Stat { width: 500px; float: left; } .NetworKit_Page .Measure .Stat .Group { padding-left: 1.25em; margin-bottom: 0.75em; } .NetworKit_Page .Measure .Stat .Group .Title { font-size: 1.1em; display: block; margin-bottom: 0.3em; margin-left: -0.75em; border-right-style: dotted; border-right-width: 1px; border-bottom-style: dotted; border-bottom-width: 1px; background-color: #D0D0D0; padding-left: 0.2em; } .NetworKit_Page .Measure .Stat .Group .List { -webkit-column-count: 3; -moz-column-count: 3; column-count: 3; } .NetworKit_Page .Measure .Stat .Group .List .Entry { position: relative; line-height: 1.75em; } .NetworKit_Page .Measure .Stat .Group .List .Entry[data-tooltip]:before { position: absolute; left: 0; top: -40px; background-color: #808080; color: #ffffff; height: 30px; line-height: 30px; border-radius: 5px; padding: 0 15px; content: attr(data-tooltip); white-space: nowrap; display: none; } .NetworKit_Page .Measure .Stat .Group .List .Entry[data-tooltip]:after { position: absolute; left: 15px; top: -10px; border-top: 7px solid #808080; border-left: 7px solid transparent; border-right: 7px solid transparent; content: \"\"; display: none; } .NetworKit_Page .Measure .Stat .Group .List .Entry[data-tooltip]:hover:after, .NetworKit_Page .Measure .Stat .Group .List .Entry[data-tooltip]:hover:before { display: block; } .NetworKit_Page .Measure .Stat .Group .List .Entry .MathValue { font-family: \"Courier New\", Courier, monospace; } .NetworKit_Page .Measure:after { content: \".\"; visibility: hidden; display: block; height: 0; clear: both; } .NetworKit_Page .PartitionPie { clear: both; } .NetworKit_Page .PartitionPie img { width: 600px; } #NetworKit_Overlay { left: 0px; top: 0px; display: none; position: absolute; width: 100%; height: 100%; background-color: rgba(0,0,0,0.6); z-index: 1000; } #NetworKit_Overlay_Title { position: absolute; color: white; transform: rotate(-90deg); width: 32em; height: 32em; padding-right: 0.5em; padding-top: 0.5em; text-align: right; font-size: 40px; } #NetworKit_Overlay .button { background: white; cursor: pointer; } #NetworKit_Overlay .button:before { size: 13px; display: inline-block; text-align: center; margin-top: 0.5em; margin-bottom: 0.5em; width: 1.5em; height: 1.5em; } #NetworKit_Overlay .icon-close:before { content: \"X\"; } #NetworKit_Overlay .icon-previous:before { content: \"P\"; } #NetworKit_Overlay .icon-next:before { content: \"N\"; } #NetworKit_Overlay .icon-save:before { content: \"S\"; } #NetworKit_Overlay_Toolbar_Top, #NetworKit_Overlay_Toolbar_Bottom { position: absolute; width: 40px; right: 13px; text-align: right; z-index: 1100; } #NetworKit_Overlay_Toolbar_Top { top: 0.5em; } #NetworKit_Overlay_Toolbar_Bottom { Bottom: 0.5em; } #NetworKit_Overlay_ImageContainer { position: absolute; top: 5%; left: 5%; height: 90%; width: 90%; background-repeat: no-repeat; background-position: center center; background-size: contain; } #NetworKit_Overlay_Image { height: 100%; width: 100%; background-repeat: no-repeat; background-position: center center; background-size: contain; }';\n",
              "\t\t\t\telement.setAttribute('id', 'NetworKit_style');\n",
              "\t\t\t\tdocument.head.appendChild(element);\n",
              "\t\t\t}\n",
              "\t\t\n",
              "\t\t\t\t\n",
              "\t\t\t{\n",
              "\t\t\t\tvar element = document.getElementById('NetworKit_Overlay');\n",
              "\t\t\t\tif (element) {\n",
              "\t\t\t\t\telement.parentNode.removeChild(element);\n",
              "\t\t\t\t}\n",
              "\t\t\t\telement = document.createElement('div');\n",
              "\t\t\t\telement.innerHTML = '<div id=\"NetworKit_Overlay_Toolbar_Top\"><div class=\"button icon-close\" id=\"NetworKit_Overlay_Close\" /></div><div id=\"NetworKit_Overlay_Title\" /> <div id=\"NetworKit_Overlay_ImageContainer\"> <div id=\"NetworKit_Overlay_Image\" /> </div> <div id=\"NetworKit_Overlay_Toolbar_Bottom\"> <div class=\"button icon-previous\" onclick=\"NetworKit_overlayImageShift(-1)\" /> <div class=\"button icon-next\" onclick=\"NetworKit_overlayImageShift(1)\" /> <a id=\"NetworKit_Overlay_Toolbar_Bottom_Save\"><div class=\"button icon-save\" /></a> </div>';\n",
              "\t\t\t\telement.setAttribute('id', 'NetworKit_Overlay');\n",
              "\t\t\t\tdocument.body.appendChild(element);\n",
              "\t\t\t\tdocument.getElementById('NetworKit_Overlay_Close').onclick = function (e) {\n",
              "\t\t\t\t\tdocument.getElementById('NetworKit_Overlay').style.display = 'none';\n",
              "\t\t\t\t}\n",
              "\t\t\t}\n",
              "\t\t\n",
              "\t\t\t-->\n",
              "\t\t\t</script>\n",
              "\t\t"
            ]
          },
          "metadata": {}
        },
        {
          "output_type": "stream",
          "name": "stderr",
          "text": [
            "Exception in thread _colab_inspector_thread:\n",
            "Traceback (most recent call last):\n",
            "  File \"/usr/lib/python3.7/threading.py\", line 926, in _bootstrap_inner\n",
            "    self.run()\n",
            "  File \"/usr/lib/python3.7/threading.py\", line 870, in run\n",
            "    self._target(*self._args, **self._kwargs)\n",
            "  File \"/usr/local/lib/python3.7/dist-packages/google/colab/_debugpy.py\", line 64, in inspector_thread\n",
            "    _variable_inspector.run(shell, time)\n",
            "  File \"/usr/local/lib/python3.7/dist-packages/google/colab/_variable_inspector.py\", line 27, in run\n",
            "    globals().clear()\n",
            "TypeError: 'module' object is not callable\n",
            "\n"
          ]
        },
        {
          "output_type": "stream",
          "name": "stdout",
          "text": [
            "Network Properties:\n",
            "nodes, edges\t\t\t595460, 14273311\n",
            "directed?\t\t\tFalse\n",
            "weighted?\t\t\tFalse\n",
            "isolated nodes\t\t\t0\n",
            "self-loops\t\t\t0\n",
            "density\t\t\t\t0.000081\n",
            "clustering coefficient\t\t0.198532\n",
            "min/max/avg degree\t\t1, 2152, 47.940453\n",
            "degree assortativity\t\t0.293644\n",
            "number of connected components\t1\n",
            "size of largest component\t595460 (100.00 %)\n"
          ]
        }
      ]
    },
    {
      "cell_type": "code",
      "source": [
        "overview(Git)"
      ],
      "metadata": {
        "id": "tR0PB-q7yYDw",
        "outputId": "1418d9ea-514c-4985-c859-d145f6857c70",
        "colab": {
          "base_uri": "https://localhost:8080/"
        }
      },
      "execution_count": null,
      "outputs": [
        {
          "output_type": "stream",
          "name": "stdout",
          "text": [
            "Network Properties:\n",
            "nodes, edges\t\t\t595460, 14273311\n",
            "directed?\t\t\tFalse\n",
            "weighted?\t\t\tFalse\n",
            "isolated nodes\t\t\t0\n",
            "self-loops\t\t\t0\n",
            "density\t\t\t\t0.000081\n",
            "clustering coefficient\t\t0.198532\n",
            "min/max/avg degree\t\t1, 2152, 47.940453\n",
            "degree assortativity\t\t0.293644\n",
            "number of connected components\t1\n",
            "size of largest component\t595460 (100.00 %)\n"
          ]
        }
      ]
    },
    {
      "cell_type": "code",
      "source": [
        "#@title Get comunnities\n",
        "%%time\n",
        "from networkit.community import detectCommunities\n",
        "\n",
        "networkit_partition = detectCommunities(Git)"
      ],
      "metadata": {
        "id": "QQmkO-jAHsxC",
        "outputId": "83c9409f-2c21-4b39-e04a-e067ff625ac3",
        "colab": {
          "base_uri": "https://localhost:8080/"
        }
      },
      "execution_count": null,
      "outputs": [
        {
          "output_type": "stream",
          "name": "stderr",
          "text": [
            "/usr/local/lib/python3.7/dist-packages/networkit/stopwatch.py:49: UserWarning: networkit.Timer is deprecated, will be removed in future updates.\n",
            "  warn(\"networkit.Timer is deprecated, will be removed in future updates.\")\n"
          ]
        },
        {
          "output_type": "stream",
          "name": "stdout",
          "text": [
            "Communities detected in 31.10533 [s]\n",
            "solution properties:\n",
            "-------------------  ---------------\n",
            "# communities          114\n",
            "min community size       3\n",
            "max community size   88576\n",
            "avg. community size   5223.33\n",
            "imbalance               16.9556\n",
            "edge cut                 2.47395e+06\n",
            "edge cut (portion)       0.173327\n",
            "modularity               0.753149\n",
            "-------------------  ---------------\n",
            "CPU times: user 34.8 s, sys: 42.7 ms, total: 34.9 s\n",
            "Wall time: 31.7 s\n"
          ]
        }
      ]
    },
    {
      "cell_type": "code",
      "source": [
        "networkit_partition.getVector()"
      ],
      "metadata": {
        "id": "XTWvZ9WEWdI8"
      },
      "execution_count": null,
      "outputs": []
    },
    {
      "cell_type": "code",
      "source": [
        "idmap = dict((id, u) for (id, u) in zip(G.nodes(), range(G.number_of_nodes())))"
      ],
      "metadata": {
        "id": "sHQD3W91YMXf"
      },
      "execution_count": null,
      "outputs": []
    },
    {
      "cell_type": "code",
      "source": [
        "community_module = dict( )"
      ],
      "metadata": {
        "id": "qjOjLDkXYP1x"
      },
      "execution_count": null,
      "outputs": []
    },
    {
      "cell_type": "code",
      "source": [
        "networkit_partition = dict( zip(G.nodes(),networkit_partition.getVector() ))"
      ],
      "metadata": {
        "id": "7cf2U7tqIJf8"
      },
      "execution_count": null,
      "outputs": []
    },
    {
      "cell_type": "code",
      "source": [
        "networkit_partition"
      ],
      "metadata": {
        "id": "kcin1weYgXvT"
      },
      "execution_count": null,
      "outputs": []
    },
    {
      "cell_type": "code",
      "source": [
        "import pandas as pd\n",
        "degree_attribute: \"dict[str, int]\" = networkit_partition\n",
        "dict_core_number = degree_attribute\n",
        "nodes = dict_core_number.keys()\n",
        "value = dict_core_number.values()\n",
        "df_core_number = pd.DataFrame(data={\"uid\":nodes,\n",
        "                   \"value\":value})\n",
        "\n",
        "df_core_number\n",
        "\n",
        "#df_core_number.to_csv(\"/content/drive/MyDrive/tesis/data/mutual_follow_network/attributes/degree.csv\",index=False)"
      ],
      "metadata": {
        "id": "mGlMNtORghJE",
        "outputId": "44f650dd-1b92-483d-fb1c-d2642b3f0e3f",
        "colab": {
          "base_uri": "https://localhost:8080/",
          "height": 424
        }
      },
      "execution_count": null,
      "outputs": [
        {
          "output_type": "execute_result",
          "data": {
            "text/plain": [
              "           uid  value\n",
              "0            0      0\n",
              "1            1      0\n",
              "2            2      0\n",
              "3            3      0\n",
              "4            4      0\n",
              "...        ...    ...\n",
              "595455  595455     24\n",
              "595456  595456     29\n",
              "595457  595457     30\n",
              "595458  595458     47\n",
              "595459  595459     29\n",
              "\n",
              "[595460 rows x 2 columns]"
            ],
            "text/html": [
              "\n",
              "  <div id=\"df-a8f424f2-95d8-4ce1-bf40-129c03ae1cad\">\n",
              "    <div class=\"colab-df-container\">\n",
              "      <div>\n",
              "<style scoped>\n",
              "    .dataframe tbody tr th:only-of-type {\n",
              "        vertical-align: middle;\n",
              "    }\n",
              "\n",
              "    .dataframe tbody tr th {\n",
              "        vertical-align: top;\n",
              "    }\n",
              "\n",
              "    .dataframe thead th {\n",
              "        text-align: right;\n",
              "    }\n",
              "</style>\n",
              "<table border=\"1\" class=\"dataframe\">\n",
              "  <thead>\n",
              "    <tr style=\"text-align: right;\">\n",
              "      <th></th>\n",
              "      <th>uid</th>\n",
              "      <th>value</th>\n",
              "    </tr>\n",
              "  </thead>\n",
              "  <tbody>\n",
              "    <tr>\n",
              "      <th>0</th>\n",
              "      <td>0</td>\n",
              "      <td>0</td>\n",
              "    </tr>\n",
              "    <tr>\n",
              "      <th>1</th>\n",
              "      <td>1</td>\n",
              "      <td>0</td>\n",
              "    </tr>\n",
              "    <tr>\n",
              "      <th>2</th>\n",
              "      <td>2</td>\n",
              "      <td>0</td>\n",
              "    </tr>\n",
              "    <tr>\n",
              "      <th>3</th>\n",
              "      <td>3</td>\n",
              "      <td>0</td>\n",
              "    </tr>\n",
              "    <tr>\n",
              "      <th>4</th>\n",
              "      <td>4</td>\n",
              "      <td>0</td>\n",
              "    </tr>\n",
              "    <tr>\n",
              "      <th>...</th>\n",
              "      <td>...</td>\n",
              "      <td>...</td>\n",
              "    </tr>\n",
              "    <tr>\n",
              "      <th>595455</th>\n",
              "      <td>595455</td>\n",
              "      <td>24</td>\n",
              "    </tr>\n",
              "    <tr>\n",
              "      <th>595456</th>\n",
              "      <td>595456</td>\n",
              "      <td>29</td>\n",
              "    </tr>\n",
              "    <tr>\n",
              "      <th>595457</th>\n",
              "      <td>595457</td>\n",
              "      <td>30</td>\n",
              "    </tr>\n",
              "    <tr>\n",
              "      <th>595458</th>\n",
              "      <td>595458</td>\n",
              "      <td>47</td>\n",
              "    </tr>\n",
              "    <tr>\n",
              "      <th>595459</th>\n",
              "      <td>595459</td>\n",
              "      <td>29</td>\n",
              "    </tr>\n",
              "  </tbody>\n",
              "</table>\n",
              "<p>595460 rows × 2 columns</p>\n",
              "</div>\n",
              "      <button class=\"colab-df-convert\" onclick=\"convertToInteractive('df-a8f424f2-95d8-4ce1-bf40-129c03ae1cad')\"\n",
              "              title=\"Convert this dataframe to an interactive table.\"\n",
              "              style=\"display:none;\">\n",
              "        \n",
              "  <svg xmlns=\"http://www.w3.org/2000/svg\" height=\"24px\"viewBox=\"0 0 24 24\"\n",
              "       width=\"24px\">\n",
              "    <path d=\"M0 0h24v24H0V0z\" fill=\"none\"/>\n",
              "    <path d=\"M18.56 5.44l.94 2.06.94-2.06 2.06-.94-2.06-.94-.94-2.06-.94 2.06-2.06.94zm-11 1L8.5 8.5l.94-2.06 2.06-.94-2.06-.94L8.5 2.5l-.94 2.06-2.06.94zm10 10l.94 2.06.94-2.06 2.06-.94-2.06-.94-.94-2.06-.94 2.06-2.06.94z\"/><path d=\"M17.41 7.96l-1.37-1.37c-.4-.4-.92-.59-1.43-.59-.52 0-1.04.2-1.43.59L10.3 9.45l-7.72 7.72c-.78.78-.78 2.05 0 2.83L4 21.41c.39.39.9.59 1.41.59.51 0 1.02-.2 1.41-.59l7.78-7.78 2.81-2.81c.8-.78.8-2.07 0-2.86zM5.41 20L4 18.59l7.72-7.72 1.47 1.35L5.41 20z\"/>\n",
              "  </svg>\n",
              "      </button>\n",
              "      \n",
              "  <style>\n",
              "    .colab-df-container {\n",
              "      display:flex;\n",
              "      flex-wrap:wrap;\n",
              "      gap: 12px;\n",
              "    }\n",
              "\n",
              "    .colab-df-convert {\n",
              "      background-color: #E8F0FE;\n",
              "      border: none;\n",
              "      border-radius: 50%;\n",
              "      cursor: pointer;\n",
              "      display: none;\n",
              "      fill: #1967D2;\n",
              "      height: 32px;\n",
              "      padding: 0 0 0 0;\n",
              "      width: 32px;\n",
              "    }\n",
              "\n",
              "    .colab-df-convert:hover {\n",
              "      background-color: #E2EBFA;\n",
              "      box-shadow: 0px 1px 2px rgba(60, 64, 67, 0.3), 0px 1px 3px 1px rgba(60, 64, 67, 0.15);\n",
              "      fill: #174EA6;\n",
              "    }\n",
              "\n",
              "    [theme=dark] .colab-df-convert {\n",
              "      background-color: #3B4455;\n",
              "      fill: #D2E3FC;\n",
              "    }\n",
              "\n",
              "    [theme=dark] .colab-df-convert:hover {\n",
              "      background-color: #434B5C;\n",
              "      box-shadow: 0px 1px 3px 1px rgba(0, 0, 0, 0.15);\n",
              "      filter: drop-shadow(0px 1px 2px rgba(0, 0, 0, 0.3));\n",
              "      fill: #FFFFFF;\n",
              "    }\n",
              "  </style>\n",
              "\n",
              "      <script>\n",
              "        const buttonEl =\n",
              "          document.querySelector('#df-a8f424f2-95d8-4ce1-bf40-129c03ae1cad button.colab-df-convert');\n",
              "        buttonEl.style.display =\n",
              "          google.colab.kernel.accessAllowed ? 'block' : 'none';\n",
              "\n",
              "        async function convertToInteractive(key) {\n",
              "          const element = document.querySelector('#df-a8f424f2-95d8-4ce1-bf40-129c03ae1cad');\n",
              "          const dataTable =\n",
              "            await google.colab.kernel.invokeFunction('convertToInteractive',\n",
              "                                                     [key], {});\n",
              "          if (!dataTable) return;\n",
              "\n",
              "          const docLinkHtml = 'Like what you see? Visit the ' +\n",
              "            '<a target=\"_blank\" href=https://colab.research.google.com/notebooks/data_table.ipynb>data table notebook</a>'\n",
              "            + ' to learn more about interactive tables.';\n",
              "          element.innerHTML = '';\n",
              "          dataTable['output_type'] = 'display_data';\n",
              "          await google.colab.output.renderOutput(dataTable, element);\n",
              "          const docLink = document.createElement('div');\n",
              "          docLink.innerHTML = docLinkHtml;\n",
              "          element.appendChild(docLink);\n",
              "        }\n",
              "      </script>\n",
              "    </div>\n",
              "  </div>\n",
              "  "
            ]
          },
          "metadata": {},
          "execution_count": 27
        }
      ]
    },
    {
      "cell_type": "code",
      "source": [
        "from google.colab import drive\n",
        "drive.mount('/content/drive')"
      ],
      "metadata": {
        "id": "85DkwLIpgsYv",
        "outputId": "b4e6a05c-f3f3-4cbb-93a2-e9b3281fdfb2",
        "colab": {
          "base_uri": "https://localhost:8080/"
        }
      },
      "execution_count": null,
      "outputs": [
        {
          "output_type": "stream",
          "name": "stdout",
          "text": [
            "Mounted at /content/drive\n"
          ]
        }
      ]
    },
    {
      "cell_type": "code",
      "source": [
        ""
      ],
      "metadata": {
        "id": "zP0fBWxkIkhP"
      },
      "execution_count": null,
      "outputs": []
    },
    {
      "cell_type": "code",
      "source": [
        "df_union_really_df.set_index(['uid']).count(level='uid')"
      ],
      "metadata": {
        "id": "j0k4LbTFMQaZ",
        "outputId": "151314f9-fca7-4bcb-c0a4-22627b31a4cb",
        "colab": {
          "base_uri": "https://localhost:8080/",
          "height": 365
        }
      },
      "execution_count": null,
      "outputs": [
        {
          "output_type": "stream",
          "name": "stderr",
          "text": [
            "/usr/local/lib/python3.7/dist-packages/ipykernel_launcher.py:1: FutureWarning: Using the level keyword in DataFrame and Series aggregations is deprecated and will be removed in a future version. Use groupby instead. df.count(level=1) should use df.groupby(level=1).count().\n",
            "  \"\"\"Entry point for launching an IPython kernel.\n"
          ]
        },
        {
          "output_type": "error",
          "ename": "TypeError",
          "evalue": "ignored",
          "traceback": [
            "\u001b[0;31m---------------------------------------------------------------------------\u001b[0m",
            "\u001b[0;31mTypeError\u001b[0m                                 Traceback (most recent call last)",
            "\u001b[0;32m<ipython-input-52-79bdd7ed00c2>\u001b[0m in \u001b[0;36m<module>\u001b[0;34m()\u001b[0m\n\u001b[0;32m----> 1\u001b[0;31m \u001b[0mdf_union_really_df\u001b[0m\u001b[0;34m.\u001b[0m\u001b[0mset_index\u001b[0m\u001b[0;34m(\u001b[0m\u001b[0;34m[\u001b[0m\u001b[0;34m'uid'\u001b[0m\u001b[0;34m]\u001b[0m\u001b[0;34m)\u001b[0m\u001b[0;34m.\u001b[0m\u001b[0mcount\u001b[0m\u001b[0;34m(\u001b[0m\u001b[0mlevel\u001b[0m\u001b[0;34m=\u001b[0m\u001b[0;34m'uid'\u001b[0m\u001b[0;34m)\u001b[0m\u001b[0;34m\u001b[0m\u001b[0;34m\u001b[0m\u001b[0m\n\u001b[0m",
            "\u001b[0;32m/usr/local/lib/python3.7/dist-packages/pandas/core/frame.py\u001b[0m in \u001b[0;36mcount\u001b[0;34m(self, axis, level, numeric_only)\u001b[0m\n\u001b[1;32m   9702\u001b[0m                 \u001b[0mstacklevel\u001b[0m\u001b[0;34m=\u001b[0m\u001b[0;36m2\u001b[0m\u001b[0;34m,\u001b[0m\u001b[0;34m\u001b[0m\u001b[0;34m\u001b[0m\u001b[0m\n\u001b[1;32m   9703\u001b[0m             )\n\u001b[0;32m-> 9704\u001b[0;31m             \u001b[0;32mreturn\u001b[0m \u001b[0mself\u001b[0m\u001b[0;34m.\u001b[0m\u001b[0m_count_level\u001b[0m\u001b[0;34m(\u001b[0m\u001b[0mlevel\u001b[0m\u001b[0;34m,\u001b[0m \u001b[0maxis\u001b[0m\u001b[0;34m=\u001b[0m\u001b[0maxis\u001b[0m\u001b[0;34m,\u001b[0m \u001b[0mnumeric_only\u001b[0m\u001b[0;34m=\u001b[0m\u001b[0mnumeric_only\u001b[0m\u001b[0;34m)\u001b[0m\u001b[0;34m\u001b[0m\u001b[0;34m\u001b[0m\u001b[0m\n\u001b[0m\u001b[1;32m   9705\u001b[0m \u001b[0;34m\u001b[0m\u001b[0m\n\u001b[1;32m   9706\u001b[0m         \u001b[0;32mif\u001b[0m \u001b[0mnumeric_only\u001b[0m\u001b[0;34m:\u001b[0m\u001b[0;34m\u001b[0m\u001b[0;34m\u001b[0m\u001b[0m\n",
            "\u001b[0;32m/usr/local/lib/python3.7/dist-packages/pandas/core/frame.py\u001b[0m in \u001b[0;36m_count_level\u001b[0;34m(self, level, axis, numeric_only)\u001b[0m\n\u001b[1;32m   9738\u001b[0m         \u001b[0;32mif\u001b[0m \u001b[0;32mnot\u001b[0m \u001b[0misinstance\u001b[0m\u001b[0;34m(\u001b[0m\u001b[0mcount_axis\u001b[0m\u001b[0;34m,\u001b[0m \u001b[0mMultiIndex\u001b[0m\u001b[0;34m)\u001b[0m\u001b[0;34m:\u001b[0m\u001b[0;34m\u001b[0m\u001b[0;34m\u001b[0m\u001b[0m\n\u001b[1;32m   9739\u001b[0m             raise TypeError(\n\u001b[0;32m-> 9740\u001b[0;31m                 \u001b[0;34mf\"Can only count levels on hierarchical {self._get_axis_name(axis)}.\"\u001b[0m\u001b[0;34m\u001b[0m\u001b[0;34m\u001b[0m\u001b[0m\n\u001b[0m\u001b[1;32m   9741\u001b[0m             )\n\u001b[1;32m   9742\u001b[0m \u001b[0;34m\u001b[0m\u001b[0m\n",
            "\u001b[0;31mTypeError\u001b[0m: Can only count levels on hierarchical index."
          ]
        }
      ]
    }
  ]
}