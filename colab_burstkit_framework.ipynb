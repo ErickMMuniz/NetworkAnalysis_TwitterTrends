{
  "nbformat": 4,
  "nbformat_minor": 0,
  "metadata": {
    "colab": {
      "name": "colab_burstkit_framework.ipynb",
      "provenance": [],
      "authorship_tag": "ABX9TyOo+OKNRiExqGChLF8NI/zf",
      "include_colab_link": true
    },
    "kernelspec": {
      "name": "python3",
      "display_name": "Python 3"
    },
    "language_info": {
      "name": "python"
    }
  },
  "cells": [
    {
      "cell_type": "markdown",
      "metadata": {
        "id": "view-in-github",
        "colab_type": "text"
      },
      "source": [
        "<a href=\"https://colab.research.google.com/github/ErickMM98/NetworkAnalysis_TwitterTrends/blob/main/colab_burstkit_framework.ipynb\" target=\"_parent\"><img src=\"https://colab.research.google.com/assets/colab-badge.svg\" alt=\"Open In Colab\"/></a>"
      ]
    },
    {
      "cell_type": "markdown",
      "source": [
        "# Download all datasets and codes"
      ],
      "metadata": {
        "id": "4k8Zb3UZfSjI"
      }
    },
    {
      "cell_type": "code",
      "execution_count": 1,
      "metadata": {
        "colab": {
          "base_uri": "https://localhost:8080/"
        },
        "id": "k0dm2tKEb4me",
        "outputId": "fd4f485f-48cb-4675-f3da-16c69e6783de"
      },
      "outputs": [
        {
          "output_type": "stream",
          "name": "stdout",
          "text": [
            "--2022-04-25 00:15:28--  https://zenodo.org/record/4686013/files/virality2013.tar.gz\n",
            "Resolving zenodo.org (zenodo.org)... 137.138.76.77\n",
            "Connecting to zenodo.org (zenodo.org)|137.138.76.77|:443... connected.\n",
            "HTTP request sent, awaiting response... 200 OK\n",
            "Length: 526346240 (502M) [application/octet-stream]\n",
            "Saving to: ‘virality2013.tar.gz’\n",
            "\n",
            "virality2013.tar.gz 100%[===================>] 501.96M  4.88MB/s    in 1m 48s  \n",
            "\n",
            "2022-04-25 00:17:17 (4.67 MB/s) - ‘virality2013.tar.gz’ saved [526346240/526346240]\n",
            "\n"
          ]
        }
      ],
      "source": [
        "#@title Dataset\n",
        "\n",
        "!wget https://zenodo.org/record/4686013/files/virality2013.tar.gz\n",
        "!tar -xf virality2013.tar.gz"
      ]
    },
    {
      "cell_type": "code",
      "source": [
        "#@title clone repository\n",
        "!git clone https://github.com/ErickMM98/NetworkAnalysis_TwitterTrends.git\n",
        "!mv /content/NetworkAnalysis_TwitterTrends/burstkit /content/"
      ],
      "metadata": {
        "colab": {
          "base_uri": "https://localhost:8080/"
        },
        "id": "blmOXAOvEvyk",
        "outputId": "9abb371d-c83e-4ac7-f43a-301e0dc4bd97"
      },
      "execution_count": 19,
      "outputs": [
        {
          "output_type": "stream",
          "name": "stdout",
          "text": [
            "fatal: destination path 'NetworkAnalysis_TwitterTrends' already exists and is not an empty directory.\n",
            "mv: cannot stat '/content/NetworkAnalysis_TwitterTrends/burstkit': No such file or directory\n"
          ]
        }
      ]
    },
    {
      "cell_type": "markdown",
      "source": [
        "# Project\n"
      ],
      "metadata": {
        "id": "SshZ8QZhFfpQ"
      }
    },
    {
      "cell_type": "code",
      "source": [
        "import burstkit\n",
        "import burstkit.util as util\n",
        "from burstkit.util import read_files\n",
        "\n",
        "read_files.is_path_file_in_data_path(\"/content/follower_gcc.anony.dat\")"
      ],
      "metadata": {
        "colab": {
          "base_uri": "https://localhost:8080/"
        },
        "id": "r8btobTEFfEk",
        "outputId": "d0b8dc94-79e0-4c4c-9b94-318303c05626"
      },
      "execution_count": 28,
      "outputs": [
        {
          "output_type": "execute_result",
          "data": {
            "text/plain": [
              "False"
            ]
          },
          "metadata": {},
          "execution_count": 28
        }
      ]
    }
  ]
}