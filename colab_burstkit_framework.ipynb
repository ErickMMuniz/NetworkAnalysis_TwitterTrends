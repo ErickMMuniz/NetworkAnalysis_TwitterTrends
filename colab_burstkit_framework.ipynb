{
  "nbformat": 4,
  "nbformat_minor": 0,
  "metadata": {
    "colab": {
      "name": "colab_burstkit_framework.ipynb",
      "provenance": [],
      "authorship_tag": "ABX9TyMSHh5IV6gqjkmaAw8fec6Q",
      "include_colab_link": true
    },
    "kernelspec": {
      "name": "python3",
      "display_name": "Python 3"
    },
    "language_info": {
      "name": "python"
    }
  },
  "cells": [
    {
      "cell_type": "markdown",
      "metadata": {
        "id": "view-in-github",
        "colab_type": "text"
      },
      "source": [
        "<a href=\"https://colab.research.google.com/github/ErickMMuniz/NetworkAnalysis_TwitterTrends/blob/main/colab_burstkit_framework.ipynb\" target=\"_parent\"><img src=\"https://colab.research.google.com/assets/colab-badge.svg\" alt=\"Open In Colab\"/></a>"
      ]
    },
    {
      "cell_type": "markdown",
      "source": [
        "# Download all datasets and codes"
      ],
      "metadata": {
        "id": "4k8Zb3UZfSjI"
      }
    },
    {
      "cell_type": "code",
      "source": [
        "!sh -f bin_colab.sh"
      ],
      "metadata": {
        "id": "ceA4_9baFQFZ",
        "outputId": "cf9d4372-12d0-467e-ec60-b676fb15f6dc",
        "colab": {
          "base_uri": "https://localhost:8080/"
        }
      },
      "execution_count": 23,
      "outputs": [
        {
          "output_type": "stream",
          "name": "stdout",
          "text": [
            "mkdir: cannot create directory ‘fooo/bar’: No such file or directory\n"
          ]
        }
      ]
    },
    {
      "cell_type": "code",
      "execution_count": 1,
      "metadata": {
        "colab": {
          "base_uri": "https://localhost:8080/"
        },
        "id": "k0dm2tKEb4me",
        "outputId": "e5985a58-0a51-40e5-a52b-5fb95535058f"
      },
      "outputs": [
        {
          "output_type": "stream",
          "name": "stdout",
          "text": [
            "--2022-06-08 00:24:29--  https://zenodo.org/record/4686013/files/virality2013.tar.gz\n",
            "Resolving zenodo.org (zenodo.org)... 137.138.76.77\n",
            "Connecting to zenodo.org (zenodo.org)|137.138.76.77|:443... connected.\n",
            "HTTP request sent, awaiting response... 200 OK\n",
            "Length: 526346240 (502M) [application/octet-stream]\n",
            "Saving to: ‘virality2013.tar.gz’\n",
            "\n",
            "virality2013.tar.gz 100%[===================>] 501.96M  14.0MB/s    in 46s     \n",
            "\n",
            "2022-06-08 00:25:16 (10.9 MB/s) - ‘virality2013.tar.gz’ saved [526346240/526346240]\n",
            "\n"
          ]
        }
      ],
      "source": [
        "#@title Dataset\n",
        "\n",
        "!wget https://zenodo.org/record/4686013/files/virality2013.tar.gz\n",
        "!mkdir data\n",
        "!mkdir data/virality2013.tar/\n",
        "!tar -xf virality2013.tar.gz -C data/virality2013.tar/"
      ]
    },
    {
      "cell_type": "code",
      "source": [
        "#@title clone repository\n",
        "!git clone https://github.com/ErickMM98/NetworkAnalysis_TwitterTrends.git\n",
        "!mv /content/NetworkAnalysis_TwitterTrends/burstkit /content/"
      ],
      "metadata": {
        "colab": {
          "base_uri": "https://localhost:8080/"
        },
        "id": "blmOXAOvEvyk",
        "outputId": "96fdeb84-b024-41c9-94a0-f0dfce584d23"
      },
      "execution_count": 2,
      "outputs": [
        {
          "output_type": "stream",
          "name": "stdout",
          "text": [
            "Cloning into 'NetworkAnalysis_TwitterTrends'...\n",
            "remote: Enumerating objects: 296, done.\u001b[K\n",
            "remote: Counting objects: 100% (49/49), done.\u001b[K\n",
            "remote: Compressing objects: 100% (32/32), done.\u001b[K\n",
            "remote: Total 296 (delta 23), reused 33 (delta 16), pack-reused 247\u001b[K\n",
            "Receiving objects: 100% (296/296), 32.74 MiB | 32.21 MiB/s, done.\n",
            "Resolving deltas: 100% (110/110), done.\n"
          ]
        }
      ]
    },
    {
      "cell_type": "markdown",
      "source": [
        "# Project\n"
      ],
      "metadata": {
        "id": "SshZ8QZhFfpQ"
      }
    },
    {
      "cell_type": "code",
      "source": [
        "#@title Dependencias\n",
        "import numpy as np\n",
        "import networkx as nx"
      ],
      "metadata": {
        "id": "rmjXGKHMKWOf"
      },
      "execution_count": 38,
      "outputs": []
    },
    {
      "cell_type": "code",
      "source": [
        "#@title ***[WARNING]***: Siempre se debe correr esta celda para tener los mismo resultados.  \n",
        "import numpy as np\n",
        "from burstkit.util import SEED\n",
        "np.random.seed(SEED)"
      ],
      "metadata": {
        "id": "x8uZp1l9J_7k"
      },
      "execution_count": 51,
      "outputs": []
    },
    {
      "cell_type": "code",
      "source": [
        "import burstkit.util as util\n",
        "from burstkit.util import read_files\n",
        "import burstkit.util.read_files as rf\n",
        "\n",
        "type(rf.get_timeline_retweets())"
      ],
      "metadata": {
        "colab": {
          "base_uri": "https://localhost:8080/"
        },
        "id": "r8btobTEFfEk",
        "outputId": "f364cecf-9ae1-4d57-d72a-8d20c7ccfdf8"
      },
      "execution_count": 15,
      "outputs": [
        {
          "output_type": "execute_result",
          "data": {
            "text/plain": [
              "dict"
            ]
          },
          "metadata": {},
          "execution_count": 15
        }
      ]
    }
  ]
}